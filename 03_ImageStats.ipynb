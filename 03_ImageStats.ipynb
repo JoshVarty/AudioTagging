{
 "cells": [
  {
   "cell_type": "markdown",
   "metadata": {},
   "source": [
    "## Image Stats"
   ]
  },
  {
   "cell_type": "markdown",
   "metadata": {},
   "source": [
    "By default we were normalizing with ImageNet stats. Obviously these don't apply to our dataset so let's try calculating the means and standard deviations for our stats."
   ]
  },
  {
   "cell_type": "code",
   "execution_count": 1,
   "metadata": {},
   "outputs": [],
   "source": [
    "%reload_ext autoreload\n",
    "%autoreload 2\n",
    "%matplotlib inline\n",
    "import os\n",
    "import numpy\n",
    "import cv2\n",
    "import numpy as np\n",
    "from tqdm import tqdm"
   ]
  },
  {
   "cell_type": "code",
   "execution_count": 2,
   "metadata": {},
   "outputs": [],
   "source": [
    "path = '/home/josh/git/AudioTagging/work/image/trn_merged2/'\n",
    "train_images = os.listdir(path)\n",
    "train_images = [path + s for s in train_images]"
   ]
  },
  {
   "cell_type": "code",
   "execution_count": 3,
   "metadata": {},
   "outputs": [
    {
     "data": {
      "text/plain": [
       "'/home/josh/git/AudioTagging/work/image/trn_merged2/b157987e.wav.jpg'"
      ]
     },
     "execution_count": 3,
     "metadata": {},
     "output_type": "execute_result"
    }
   ],
   "source": [
    "train_images[0]"
   ]
  },
  {
   "cell_type": "code",
   "execution_count": 4,
   "metadata": {},
   "outputs": [],
   "source": [
    "def getMeans(paths):\n",
    "    redSum = 0\n",
    "    greenSum = 0\n",
    "    blueSum = 0\n",
    "\n",
    "    for path in paths:\n",
    "        image = cv2.imread(path)\n",
    "        \n",
    "        red = np.reshape(image[:,:,0], -1)\n",
    "        green = np.reshape(image[:,:,1], -1)\n",
    "        blue = np.reshape(image[:,:,2], -1)\n",
    "\n",
    "        redMean = red.mean()\n",
    "        greenMean = green.mean()\n",
    "        blueMean = blue.mean()\n",
    "\n",
    "        redSum = redSum + redMean\n",
    "        greenSum = greenSum + greenMean\n",
    "        blueSum = blueSum + blueMean\n",
    "        \n",
    "    redMean = redSum/len(paths)\n",
    "    greenMean = greenSum/len(paths)\n",
    "    blueMean = blueSum/len(paths)\n",
    "    \n",
    "    return (redMean, greenMean, blueMean)"
   ]
  },
  {
   "cell_type": "code",
   "execution_count": 5,
   "metadata": {},
   "outputs": [],
   "source": [
    "rawMeans = getMeans(train_images)\n",
    "redMean, greenMean, blueMean = rawMeans"
   ]
  },
  {
   "cell_type": "code",
   "execution_count": 6,
   "metadata": {},
   "outputs": [],
   "source": [
    "def getStds(paths, redMean, greenMean, blueMean):\n",
    "    redSum = 0\n",
    "    greenSum = 0\n",
    "    blueSum = 0\n",
    "\n",
    "    for path in paths:\n",
    "        image = cv2.imread(path)\n",
    "        rows, columns, channels = image.shape\n",
    "        red = np.reshape(image[:,:,0], -1)\n",
    "        green = np.reshape(image[:,:,1], -1)\n",
    "        blue = np.reshape(image[:,:,2], -1)\n",
    "\n",
    "        redDiffs = red - redMean\n",
    "        redSumOfSquares = np.sum(redDiffs ** 2)\n",
    "        \n",
    "        blueDiffs = blue - blueMean\n",
    "        blueSumOfSquares = np.sum(blueDiffs ** 2)\n",
    "        \n",
    "        greenDiffs = green - greenMean\n",
    "        greenSumOfSquares = np.sum(greenDiffs ** 2)\n",
    "        \n",
    "        redSum = redSum + (1/(len(paths) * rows * columns)) * redSumOfSquares\n",
    "        greenSum = greenSum + (1/(len(paths) * rows * columns)) * greenSumOfSquares\n",
    "        blueSum = blueSum + (1/(len(paths) * rows * columns)) * blueSumOfSquares\n",
    "        \n",
    "    redStd = np.sqrt(redSum)\n",
    "    greenStd = np.sqrt(greenSum)\n",
    "    blueStd = np.sqrt(blueSum)\n",
    "    \n",
    "    return (redStd, greenStd, blueStd)"
   ]
  },
  {
   "cell_type": "code",
   "execution_count": 7,
   "metadata": {},
   "outputs": [],
   "source": [
    "redStd, greenStd, blueStd = getStds(train_images, redMean, greenMean, blueMean)"
   ]
  },
  {
   "cell_type": "code",
   "execution_count": 8,
   "metadata": {},
   "outputs": [
    {
     "name": "stdout",
     "output_type": "stream",
     "text": [
      "Red:  99.18429690025181 59.82032889965118\n",
      "Green:  99.18429690025181 59.82032889965118\n",
      "Blue:  99.18429690025181 59.82032889965118\n"
     ]
    }
   ],
   "source": [
    "print(\"Red: \", redMean, redStd)\n",
    "print(\"Green: \", greenMean, greenStd)\n",
    "print(\"Blue: \", blueMean, blueStd)"
   ]
  },
  {
   "cell_type": "code",
   "execution_count": 9,
   "metadata": {},
   "outputs": [
    {
     "name": "stdout",
     "output_type": "stream",
     "text": [
      "[[99.18429690025181, 99.18429690025181, 99.18429690025181], [59.82032889965118, 59.82032889965118, 59.82032889965118]]\n"
     ]
    }
   ],
   "source": [
    "stats = [[redMean, greenMean, blueMean], [redStd, blueStd, greenStd]]\n",
    "print(stats)"
   ]
  },
  {
   "cell_type": "code",
   "execution_count": 10,
   "metadata": {},
   "outputs": [
    {
     "name": "stdout",
     "output_type": "stream",
     "text": [
      "[[0.38895802705981103, 0.38895802705981103, 0.38895802705981103], [0.2345895250966713, 0.2345895250966713, 0.2345895250966713]]\n"
     ]
    }
   ],
   "source": [
    "normalized_stats = [[redMean/255, greenMean/255, blueMean/255], [redStd/255, blueStd/255, greenStd/255]]\n",
    "print(normalized_stats)"
   ]
  }
 ],
 "metadata": {
  "kernelspec": {
   "display_name": "Python (ml)",
   "language": "python",
   "name": "ml"
  },
  "language_info": {
   "codemirror_mode": {
    "name": "ipython",
    "version": 3
   },
   "file_extension": ".py",
   "mimetype": "text/x-python",
   "name": "python",
   "nbconvert_exporter": "python",
   "pygments_lexer": "ipython3",
   "version": "3.6.6"
  }
 },
 "nbformat": 4,
 "nbformat_minor": 2
}
