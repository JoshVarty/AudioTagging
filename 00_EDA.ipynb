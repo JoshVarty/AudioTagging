{
 "cells": [
  {
   "cell_type": "markdown",
   "metadata": {},
   "source": [
    "# Exploratory Data Analysis"
   ]
  },
  {
   "cell_type": "markdown",
   "metadata": {},
   "source": [
    "Comes from: https://www.kaggle.com/dude431/beginner-s-visualization-and-removing-uniformative"
   ]
  },
  {
   "cell_type": "code",
   "execution_count": 1,
   "metadata": {},
   "outputs": [],
   "source": [
    "import numpy as np\n",
    "import os\n",
    "from tqdm import tqdm\n",
    "import wave\n",
    "from scipy.io import wavfile\n",
    "import seaborn as sns\n",
    "import pandas as pd\n",
    "import matplotlib.pyplot as plt\n",
    "%matplotlib inline"
   ]
  },
  {
   "cell_type": "code",
   "execution_count": 2,
   "metadata": {},
   "outputs": [],
   "source": [
    "train = pd.read_csv(\"data/train_curated.csv\")\n",
    "train_noisy = pd.read_csv(\"data/train_noisy.csv\")\n",
    "test = pd.read_csv(\"data/sample_submission.csv\")"
   ]
  },
  {
   "cell_type": "code",
   "execution_count": 3,
   "metadata": {},
   "outputs": [
    {
     "name": "stdout",
     "output_type": "stream",
     "text": [
      "(4970, 2)\n",
      "(19815, 2)\n",
      "(1120, 81)\n"
     ]
    }
   ],
   "source": [
    "print(train.shape)\n",
    "print(train_noisy.shape)\n",
    "print(test.shape)"
   ]
  },
  {
   "cell_type": "markdown",
   "metadata": {},
   "source": [
    "## Class Distribution"
   ]
  },
  {
   "cell_type": "markdown",
   "metadata": {},
   "source": [
    "We would like to understand how the classes/labels are distributed in both the curated and noisy training sets. Are there any problems with class balance that we should be aware of? We will start by looking at the labels individually below."
   ]
  },
  {
   "cell_type": "code",
   "execution_count": 24,
   "metadata": {},
   "outputs": [],
   "source": [
    "def breakLabelsApart(dataDf, structureDf):\n",
    "\n",
    "    columns = structureDf.columns\n",
    "    new_df = pd.DataFrame(data=None, columns=columns, index=dataDf.index)\n",
    "\n",
    "    for index, row in dataDf.iterrows():\n",
    "        fname = row['fname']\n",
    "        allLabels = row['labels']\n",
    "        splitLabels = allLabels.split(',')\n",
    "\n",
    "        columnDict = {}\n",
    "        for i in columns:\n",
    "            columnDict[i] = 0\n",
    "\n",
    "        columnDict['fname'] = fname\n",
    "        for label in splitLabels:\n",
    "            columnDict[label] = 1\n",
    "\n",
    "        new_df = new_df.append(columnDict, ignore_index=True)\n",
    "    \n",
    "    return new_df"
   ]
  },
  {
   "cell_type": "code",
   "execution_count": 26,
   "metadata": {},
   "outputs": [
    {
     "name": "stdout",
     "output_type": "stream",
     "text": [
      "CPU times: user 2min 14s, sys: 18.5 s, total: 2min 32s\n",
      "Wall time: 2min 32s\n"
     ]
    }
   ],
   "source": [
    "%time train_one_hot = breakLabelsApart(train, test)"
   ]
  },
  {
   "cell_type": "code",
   "execution_count": null,
   "metadata": {},
   "outputs": [],
   "source": [
    "%time train_noisy_one_hot = breakLabelsApart(train_noisy, test)"
   ]
  },
  {
   "cell_type": "code",
   "execution_count": null,
   "metadata": {},
   "outputs": [],
   "source": [
    "plt.figure(figsize=(15,25))\n",
    "audio_type = train_one_hot.loc[:, 'Accelerating_and_revving_and_vroom':'Zipper_(clothing)'].sum(axis = 0).sort_values(ascending=False)\n",
    "sns.barplot(audio_type.values, audio_type.index)\n",
    "for i, v in enumerate(audio_type.values):\n",
    "    plt.text(0.8,i,v,color='k',fontsize=12)\n",
    "plt.xticks(rotation='vertical')\n",
    "plt.xlabel('Frequency')\n",
    "plt.ylabel('Label Name')\n",
    "plt.title(\"Labels with their frequencies in training data\")\n",
    "plt.show()"
   ]
  },
  {
   "cell_type": "code",
   "execution_count": null,
   "metadata": {},
   "outputs": [],
   "source": [
    "plt.figure(figsize=(15,25))\n",
    "audio_type = train_noisy_one_hot.loc[:, 'Accelerating_and_revving_and_vroom':'Zipper_(clothing)'].sum(axis = 0).sort_values(ascending=False)\n",
    "sns.barplot(audio_type.values, audio_type.index)\n",
    "for i, v in enumerate(audio_type.values):\n",
    "    plt.text(0.8,i,v,color='k',fontsize=12)\n",
    "plt.xticks(rotation='vertical')\n",
    "plt.xlabel('Frequency')\n",
    "plt.ylabel('Label Name')\n",
    "plt.title(\"Labels with their frequencies in training data\")\n",
    "plt.show()"
   ]
  },
  {
   "cell_type": "markdown",
   "metadata": {},
   "source": [
    "Some audio samples contain multiple noise sources. We can look at the distribution for the combination of these sources as well."
   ]
  },
  {
   "cell_type": "code",
   "execution_count": null,
   "metadata": {},
   "outputs": [],
   "source": [
    "plt.figure(figsize=(15,44))\n",
    "audio_type = train['labels'].value_counts()\n",
    "sns.barplot(audio_type.values, audio_type.index)\n",
    "for i, v in enumerate(audio_type.values):\n",
    "    plt.text(0.8,i,v,color='k',fontsize=12)\n",
    "plt.xticks(rotation='vertical')\n",
    "plt.xlabel('Frequency')\n",
    "plt.ylabel('Label Name')\n",
    "plt.title(\"Top 30 labels with their frequencies in training data\")\n",
    "plt.show()"
   ]
  }
 ],
 "metadata": {
  "kernelspec": {
   "display_name": "Python (ml)",
   "language": "python",
   "name": "ml"
  },
  "language_info": {
   "codemirror_mode": {
    "name": "ipython",
    "version": 3
   },
   "file_extension": ".py",
   "mimetype": "text/x-python",
   "name": "python",
   "nbconvert_exporter": "python",
   "pygments_lexer": "ipython3",
   "version": "3.6.8"
  }
 },
 "nbformat": 4,
 "nbformat_minor": 2
}
